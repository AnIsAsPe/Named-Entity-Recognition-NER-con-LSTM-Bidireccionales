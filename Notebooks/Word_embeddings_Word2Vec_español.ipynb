{
  "nbformat": 4,
  "nbformat_minor": 0,
  "metadata": {
    "colab": {
      "provenance": [],
      "toc_visible": true,
      "include_colab_link": true
    },
    "kernelspec": {
      "display_name": "Python 3",
      "name": "python3"
    }
  },
  "cells": [
    {
      "cell_type": "markdown",
      "metadata": {
        "id": "view-in-github",
        "colab_type": "text"
      },
      "source": [
        "<a href=\"https://colab.research.google.com/github/AnIsAsPe/Named-Entity-Recognition-NER-con-LSTM-Bidireccionales/blob/main/Notebooks/Word_embeddings_Word2Vec_espa%C3%B1ol.ipynb\" target=\"_parent\"><img src=\"https://colab.research.google.com/assets/colab-badge.svg\" alt=\"Open In Colab\"/></a>"
      ]
    },
    {
      "cell_type": "code",
      "source": [
        "!pip install gensim"
      ],
      "metadata": {
        "id": "PAFjV336NNfD",
        "outputId": "8e3440ed-d92b-4cc0-b417-207311c181ff",
        "colab": {
          "base_uri": "https://localhost:8080/"
        }
      },
      "execution_count": 3,
      "outputs": [
        {
          "output_type": "stream",
          "name": "stdout",
          "text": [
            "Collecting gensim\n",
            "  Downloading gensim-4.3.3-cp311-cp311-manylinux_2_17_x86_64.manylinux2014_x86_64.whl.metadata (8.1 kB)\n",
            "Collecting numpy<2.0,>=1.18.5 (from gensim)\n",
            "  Downloading numpy-1.26.4-cp311-cp311-manylinux_2_17_x86_64.manylinux2014_x86_64.whl.metadata (61 kB)\n",
            "\u001b[2K     \u001b[90m━━━━━━━━━━━━━━━━━━━━━━━━━━━━━━━━━━━━━━━━\u001b[0m \u001b[32m61.0/61.0 kB\u001b[0m \u001b[31m4.6 MB/s\u001b[0m eta \u001b[36m0:00:00\u001b[0m\n",
            "\u001b[?25hCollecting scipy<1.14.0,>=1.7.0 (from gensim)\n",
            "  Downloading scipy-1.13.1-cp311-cp311-manylinux_2_17_x86_64.manylinux2014_x86_64.whl.metadata (60 kB)\n",
            "\u001b[2K     \u001b[90m━━━━━━━━━━━━━━━━━━━━━━━━━━━━━━━━━━━━━━━━\u001b[0m \u001b[32m60.6/60.6 kB\u001b[0m \u001b[31m3.6 MB/s\u001b[0m eta \u001b[36m0:00:00\u001b[0m\n",
            "\u001b[?25hRequirement already satisfied: smart-open>=1.8.1 in /usr/local/lib/python3.11/dist-packages (from gensim) (7.1.0)\n",
            "Requirement already satisfied: wrapt in /usr/local/lib/python3.11/dist-packages (from smart-open>=1.8.1->gensim) (1.17.2)\n",
            "Downloading gensim-4.3.3-cp311-cp311-manylinux_2_17_x86_64.manylinux2014_x86_64.whl (26.7 MB)\n",
            "\u001b[2K   \u001b[90m━━━━━━━━━━━━━━━━━━━━━━━━━━━━━━━━━━━━━━━━\u001b[0m \u001b[32m26.7/26.7 MB\u001b[0m \u001b[31m44.4 MB/s\u001b[0m eta \u001b[36m0:00:00\u001b[0m\n",
            "\u001b[?25hDownloading numpy-1.26.4-cp311-cp311-manylinux_2_17_x86_64.manylinux2014_x86_64.whl (18.3 MB)\n",
            "\u001b[2K   \u001b[90m━━━━━━━━━━━━━━━━━━━━━━━━━━━━━━━━━━━━━━━━\u001b[0m \u001b[32m18.3/18.3 MB\u001b[0m \u001b[31m51.9 MB/s\u001b[0m eta \u001b[36m0:00:00\u001b[0m\n",
            "\u001b[?25hDownloading scipy-1.13.1-cp311-cp311-manylinux_2_17_x86_64.manylinux2014_x86_64.whl (38.6 MB)\n",
            "\u001b[2K   \u001b[90m━━━━━━━━━━━━━━━━━━━━━━━━━━━━━━━━━━━━━━━━\u001b[0m \u001b[32m38.6/38.6 MB\u001b[0m \u001b[31m15.9 MB/s\u001b[0m eta \u001b[36m0:00:00\u001b[0m\n",
            "\u001b[?25hInstalling collected packages: numpy, scipy, gensim\n",
            "  Attempting uninstall: numpy\n",
            "    Found existing installation: numpy 2.0.2\n",
            "    Uninstalling numpy-2.0.2:\n",
            "      Successfully uninstalled numpy-2.0.2\n",
            "  Attempting uninstall: scipy\n",
            "    Found existing installation: scipy 1.14.1\n",
            "    Uninstalling scipy-1.14.1:\n",
            "      Successfully uninstalled scipy-1.14.1\n",
            "Successfully installed gensim-4.3.3 numpy-1.26.4 scipy-1.13.1\n"
          ]
        }
      ]
    },
    {
      "cell_type": "code",
      "metadata": {
        "id": "nat60sgN4YxJ"
      },
      "source": [
        "import numpy as np\n",
        "import pandas as pd\n",
        "import gensim         # Procesamiento de lenguaje natural (NPL)\n",
        "\n",
        "import matplotlib.pyplot as plt\n",
        "import seaborn as sns"
      ],
      "execution_count": 1,
      "outputs": []
    },
    {
      "cell_type": "code",
      "source": [
        "from google.colab import drive\n",
        "drive.mount('/content/drive')"
      ],
      "metadata": {
        "id": "5qGjvY3CkAjC",
        "outputId": "2bdf771e-d8e0-4511-8214-0eb05f2d3e0d",
        "colab": {
          "base_uri": "https://localhost:8080/"
        }
      },
      "execution_count": 1,
      "outputs": [
        {
          "output_type": "stream",
          "name": "stdout",
          "text": [
            "Mounted at /content/drive\n"
          ]
        }
      ]
    },
    {
      "cell_type": "markdown",
      "metadata": {
        "id": "uft5ezgNkV9L"
      },
      "source": [
        "# Cargar vectores de palabras Word2Vec en español\n",
        "Bajaremos los vectores word2vec en español entrenado con el corpus [Spanish Billion Word Corpus](https://crscardellino.ar/SBWCE/)\n",
        "\n",
        "Cuenta con más de 1 millones vectores de 300 dimensiones\n",
        "\n",
        "Los encajes fueron descargados originalmente de https://www.kaggle.com/datasets/rtatman/pretrained-word-vectors-for-spanish y está disponible en este [archivo en Drive](https://drive.google.com/drive/folders/1Wb8ntGkl7wW-Xw7CCV2OKof0joULt_Yc?usp=sharing)"
      ]
    },
    {
      "cell_type": "code",
      "metadata": {
        "id": "s2sec2RZNoqu"
      },
      "source": [
        "file =  '/content/drive/MyDrive/Datos/Embeddings/Spanish1B_w2v/SBW-vectors-300-min5.bin'\n",
        "w2v = gensim.models.KeyedVectors.load_word2vec_format(file,  binary=True)"
      ],
      "execution_count": 2,
      "outputs": []
    },
    {
      "cell_type": "code",
      "metadata": {
        "colab": {
          "base_uri": "https://localhost:8080/"
        },
        "id": "e0NYgwyFpZ-T",
        "outputId": "a68d40f3-262e-4315-a13d-1523ed31ed75"
      },
      "source": [
        "vocabulario = w2v.index_to_key  #lista con todas las palabras\n",
        "\n",
        "print('Tamaño del vocabulario', len(vocabulario))"
      ],
      "execution_count": 3,
      "outputs": [
        {
          "output_type": "stream",
          "name": "stdout",
          "text": [
            "Tamaño del vocabulario 1000653\n"
          ]
        }
      ]
    },
    {
      "cell_type": "code",
      "metadata": {
        "colab": {
          "base_uri": "https://localhost:8080/"
        },
        "id": "VLpA0BuBqewA",
        "outputId": "cf2e19a8-d644-49cd-f38a-c661b3561abe"
      },
      "source": [
        "# cada palabra, tiene asociado un vector de 300 dimensiones\n",
        "print(type(w2v['curso']))\n",
        "w2v['curso'].shape"
      ],
      "execution_count": null,
      "outputs": [
        {
          "output_type": "stream",
          "name": "stdout",
          "text": [
            "<class 'numpy.ndarray'>\n"
          ]
        },
        {
          "output_type": "execute_result",
          "data": {
            "text/plain": [
              "(300,)"
            ]
          },
          "metadata": {},
          "execution_count": 6
        }
      ]
    },
    {
      "cell_type": "markdown",
      "metadata": {
        "id": "s8HtvrqfrNtf"
      },
      "source": [
        "numpy.memmap es un vector mapeado en memoria que se lee de un archivo binario en disco, sirve para acceder a pequeños segmenteos de grandes archivos en disco sin leer el archivo completo en la memoria"
      ]
    },
    {
      "cell_type": "markdown",
      "metadata": {
        "id": "RE154cMyeY3D"
      },
      "source": [
        "# Creación de diccionario de palabras y vectores"
      ]
    },
    {
      "cell_type": "code",
      "metadata": {
        "colab": {
          "base_uri": "https://localhost:8080/"
        },
        "id": "MTV8L2cbmMfc",
        "outputId": "c617daaa-36de-4f55-fa39-470fc92e0e78"
      },
      "source": [
        "%%time\n",
        "dic_word2vec  = {}\n",
        "for palabra in w2v.index_to_key:\n",
        "  dic_word2vec[palabra] = w2v[palabra]\n"
      ],
      "execution_count": 4,
      "outputs": [
        {
          "output_type": "stream",
          "name": "stdout",
          "text": [
            "CPU times: user 1.63 s, sys: 232 ms, total: 1.86 s\n",
            "Wall time: 1.86 s\n"
          ]
        }
      ]
    },
    {
      "cell_type": "code",
      "metadata": {
        "id": "jU-Q5Au38TKn",
        "colab": {
          "base_uri": "https://localhost:8080/"
        },
        "outputId": "222102b1-84e7-467e-a67d-57747be48fb2"
      },
      "source": [
        "dic_word2vec['planta']"
      ],
      "execution_count": 5,
      "outputs": [
        {
          "output_type": "execute_result",
          "data": {
            "text/plain": [
              "array([ 0.05494198, -0.18085724,  0.06706601, -0.19092476,  0.00650512,\n",
              "        0.01937751,  0.11348494, -0.05449413,  0.08655539, -0.2886382 ,\n",
              "        0.05845961, -0.16793603, -0.3850676 , -0.04051219,  0.03176188,\n",
              "        0.40264615,  0.21040663,  0.0883575 , -0.25252166,  0.11677174,\n",
              "       -0.09073283,  0.07381769, -0.27628678,  0.21091127,  0.14240877,\n",
              "       -0.10981421, -0.34911114, -0.19339538,  0.22871357,  0.43385395,\n",
              "        0.1584766 ,  0.34560347,  0.29937375,  0.26882872,  0.16644262,\n",
              "        0.1586052 , -0.21881811, -0.09453507, -0.05469298,  0.41844323,\n",
              "        0.3114989 ,  0.12946662, -0.16699608, -0.09269492,  0.17550081,\n",
              "       -0.56177527,  0.05843798,  0.13243195,  0.06198465,  0.27373928,\n",
              "        0.15052645, -0.07307847, -0.1770302 , -0.26355362,  0.04328647,\n",
              "       -0.11498378, -0.46873236,  0.01320607,  0.5078361 ,  0.2587654 ,\n",
              "       -0.02853593,  0.30465934,  0.04697463,  0.18311624, -0.10658363,\n",
              "       -0.06179718, -0.14502083,  0.20774111, -0.00491219,  0.24037546,\n",
              "        0.25702292, -0.13446394,  0.10824993,  0.24140762, -0.16429885,\n",
              "        0.26075536, -0.00471748,  0.31387767,  0.26914293,  0.50054777,\n",
              "        0.17697853, -0.34953573,  0.16645694,  0.09187624,  0.55599713,\n",
              "        0.4483444 ,  0.01656055,  0.30295658,  0.06284415, -0.19488475,\n",
              "       -0.03635748, -0.14676549,  0.18230674, -0.0747987 , -0.00086616,\n",
              "       -0.2688002 , -0.09976894, -0.0222351 ,  0.01818222,  0.44211107,\n",
              "       -0.2396732 , -0.1359403 , -0.15058659,  0.18452491,  0.22419532,\n",
              "        0.18962951, -0.2597225 , -0.42864785,  0.19284321,  0.326705  ,\n",
              "        0.20927092,  0.20697722,  0.149028  , -0.05120646,  0.0878601 ,\n",
              "       -0.03888518, -0.07918463, -0.2891601 , -0.35917047, -0.34936363,\n",
              "        0.35284716,  0.14927441,  0.2879721 ,  0.2673476 , -0.23536316,\n",
              "        0.02353431,  0.20248225,  0.07916546,  0.32882628,  0.33905917,\n",
              "        0.6964928 , -0.03475631, -0.21424302, -0.16146766, -0.20604384,\n",
              "        0.27932104,  0.16267203, -0.16529179,  0.05532032, -0.35620886,\n",
              "        0.3685081 ,  0.30019662,  0.45950362, -0.12233991, -0.04446711,\n",
              "       -0.23171498,  0.05814741,  0.0064297 ,  0.65474916, -0.21151327,\n",
              "       -0.0789484 , -0.2706918 , -0.23317003, -0.25341955,  0.11207121,\n",
              "        0.1555235 ,  0.1937967 , -0.10465584, -0.27593696,  0.19611   ,\n",
              "       -0.27383932, -0.068075  ,  0.21970047, -0.02965372, -0.4558023 ,\n",
              "        0.00990427,  0.02493805,  0.16153863,  0.36198902, -0.6397436 ,\n",
              "        0.3477421 , -0.48226237,  0.07115497, -0.07763847,  0.01792536,\n",
              "        0.07126761,  0.08573852,  0.11291995,  0.30588353,  0.00170549,\n",
              "        0.19769399,  0.14215097,  0.33858144, -0.15663631,  0.26048952,\n",
              "        0.32186005,  0.2565904 , -0.15113896,  0.23887996,  0.05145022,\n",
              "        0.10856606,  0.01484443,  0.31982875, -0.24765334,  0.14554162,\n",
              "        0.2542991 ,  0.4568572 ,  0.10813283, -0.16479956, -0.0842363 ,\n",
              "       -0.54483575,  0.02992299, -0.06239896, -0.03625984, -0.5045363 ,\n",
              "       -0.10127325,  0.05477414, -0.03948059,  0.22145592,  0.3231203 ,\n",
              "       -0.5085194 ,  0.1532061 ,  0.10242353,  0.27735355,  0.30229312,\n",
              "        0.035015  ,  0.22301082, -0.03440473, -0.28160343, -0.15329613,\n",
              "        0.09904313, -0.08565687,  0.24888866, -0.65869397, -0.02554117,\n",
              "       -0.14463966,  0.03076522,  0.0230118 , -0.20468907,  0.10565367,\n",
              "        0.01768848, -0.07207271,  0.22839104, -0.30072486,  0.2993076 ,\n",
              "       -0.189591  , -0.18928754,  0.24822333,  0.13294367,  0.24184608,\n",
              "        0.23676574, -0.13371928,  0.21236151, -0.17206033, -0.12477832,\n",
              "        0.13715778,  0.12125713, -0.2785164 ,  0.33161864,  0.2491575 ,\n",
              "        0.16351248, -0.0646338 ,  0.0934867 ,  0.284947  , -0.31799868,\n",
              "       -0.30369207,  0.06826037, -0.24820213,  0.0363242 ,  0.1186775 ,\n",
              "       -0.08557548,  0.21797994,  0.03319909,  0.08913755,  0.05712285,\n",
              "        0.341864  ,  0.10989112, -0.31365457, -0.11700992,  0.33986342,\n",
              "       -0.20043848, -0.06091246,  0.1253673 ,  0.09566619,  0.14015192,\n",
              "        0.13838054, -0.06097499, -0.31661507, -0.10396997, -0.48329583,\n",
              "       -0.3564781 ,  0.00630243, -0.3043525 ,  0.27765387,  0.03737118,\n",
              "       -0.04731185,  0.13696006,  0.07450375, -0.04647261, -0.11301306,\n",
              "        0.39494312, -0.34130582, -0.43160805,  0.02516292,  0.20431948,\n",
              "       -0.08729354, -0.12784153, -0.2830544 ,  0.234931  , -0.09164964],\n",
              "      dtype=float32)"
            ]
          },
          "metadata": {},
          "execution_count": 5
        }
      ]
    },
    {
      "cell_type": "markdown",
      "metadata": {
        "id": "lTqFkkcKY_KU"
      },
      "source": [
        "# Ejemplos de vectores de palabras"
      ]
    },
    {
      "cell_type": "code",
      "metadata": {
        "colab": {
          "base_uri": "https://localhost:8080/",
          "height": 287
        },
        "id": "aYVeRb9xmNRY",
        "outputId": "e9af8311-10d2-47e5-8d87-c6458be9ad51"
      },
      "source": [
        "ejemplos = 'hombre mujer niño niña anciano anciana'.split()\n",
        "\n",
        "#Construcción de un dataframe con los vectores de las palabras elegidas\n",
        "vectores = {palabra: dic_word2vec[palabra] for palabra in ejemplos}\n",
        "X = pd.DataFrame.from_dict(vectores, orient='index')\n",
        "\n",
        "X"
      ],
      "execution_count": 7,
      "outputs": [
        {
          "output_type": "execute_result",
          "data": {
            "text/plain": [
              "              0         1         2         3         4         5         6    \\\n",
              "hombre   0.001210 -0.295635  0.164287  0.076383  0.130810 -0.189076 -0.195853   \n",
              "mujer   -0.001835 -0.241675  0.176787  0.117577 -0.027157 -0.290824 -0.140618   \n",
              "niño    -0.163768 -0.294062  0.122578  0.152002  0.149629 -0.065488 -0.050920   \n",
              "niña    -0.055173 -0.142419  0.215838  0.184544 -0.069941 -0.191414 -0.136663   \n",
              "anciano -0.324883 -0.179371  0.278430  0.183685  0.132469 -0.190020 -0.075106   \n",
              "anciana -0.237837  0.098547  0.068938  0.136460 -0.072329 -0.099849  0.001105   \n",
              "\n",
              "              7         8         9    ...       290       291       292  \\\n",
              "hombre  -0.188454  0.180234 -0.109916  ... -0.183059  0.003205 -0.065732   \n",
              "mujer   -0.211262  0.257194 -0.006783  ... -0.199095 -0.076073 -0.091490   \n",
              "niño    -0.409104  0.154769 -0.120814  ...  0.057476  0.282848 -0.293337   \n",
              "niña    -0.403305  0.235723 -0.059558  ...  0.017596 -0.061825 -0.231494   \n",
              "anciano -0.389574  0.379598 -0.214322  ... -0.044469  0.103505 -0.015144   \n",
              "anciana -0.195434  0.442508 -0.118795  ... -0.173420 -0.259782 -0.040729   \n",
              "\n",
              "              293       294       295       296       297       298       299  \n",
              "hombre   0.310238  0.009807  0.050416  0.137551 -0.291809 -0.178414 -0.028322  \n",
              "mujer    0.409091 -0.138657 -0.120521 -0.049178 -0.102034  0.074344  0.012842  \n",
              "niño     0.058352  0.132345  0.146489 -0.073507 -0.340581  0.154004  0.130104  \n",
              "niña     0.271976  0.037338  0.194672 -0.150918 -0.047116  0.264059  0.169804  \n",
              "anciano  0.057906  0.154480  0.013753  0.098335 -0.195538 -0.085552  0.111676  \n",
              "anciana  0.368887  0.030587 -0.129665 -0.072156 -0.086298  0.279293  0.281335  \n",
              "\n",
              "[6 rows x 300 columns]"
            ],
            "text/html": [
              "\n",
              "  <div id=\"df-159c2772-0062-4d48-9ea9-0d9e7e2ad2b1\" class=\"colab-df-container\">\n",
              "    <div>\n",
              "<style scoped>\n",
              "    .dataframe tbody tr th:only-of-type {\n",
              "        vertical-align: middle;\n",
              "    }\n",
              "\n",
              "    .dataframe tbody tr th {\n",
              "        vertical-align: top;\n",
              "    }\n",
              "\n",
              "    .dataframe thead th {\n",
              "        text-align: right;\n",
              "    }\n",
              "</style>\n",
              "<table border=\"1\" class=\"dataframe\">\n",
              "  <thead>\n",
              "    <tr style=\"text-align: right;\">\n",
              "      <th></th>\n",
              "      <th>0</th>\n",
              "      <th>1</th>\n",
              "      <th>2</th>\n",
              "      <th>3</th>\n",
              "      <th>4</th>\n",
              "      <th>5</th>\n",
              "      <th>6</th>\n",
              "      <th>7</th>\n",
              "      <th>8</th>\n",
              "      <th>9</th>\n",
              "      <th>...</th>\n",
              "      <th>290</th>\n",
              "      <th>291</th>\n",
              "      <th>292</th>\n",
              "      <th>293</th>\n",
              "      <th>294</th>\n",
              "      <th>295</th>\n",
              "      <th>296</th>\n",
              "      <th>297</th>\n",
              "      <th>298</th>\n",
              "      <th>299</th>\n",
              "    </tr>\n",
              "  </thead>\n",
              "  <tbody>\n",
              "    <tr>\n",
              "      <th>hombre</th>\n",
              "      <td>0.001210</td>\n",
              "      <td>-0.295635</td>\n",
              "      <td>0.164287</td>\n",
              "      <td>0.076383</td>\n",
              "      <td>0.130810</td>\n",
              "      <td>-0.189076</td>\n",
              "      <td>-0.195853</td>\n",
              "      <td>-0.188454</td>\n",
              "      <td>0.180234</td>\n",
              "      <td>-0.109916</td>\n",
              "      <td>...</td>\n",
              "      <td>-0.183059</td>\n",
              "      <td>0.003205</td>\n",
              "      <td>-0.065732</td>\n",
              "      <td>0.310238</td>\n",
              "      <td>0.009807</td>\n",
              "      <td>0.050416</td>\n",
              "      <td>0.137551</td>\n",
              "      <td>-0.291809</td>\n",
              "      <td>-0.178414</td>\n",
              "      <td>-0.028322</td>\n",
              "    </tr>\n",
              "    <tr>\n",
              "      <th>mujer</th>\n",
              "      <td>-0.001835</td>\n",
              "      <td>-0.241675</td>\n",
              "      <td>0.176787</td>\n",
              "      <td>0.117577</td>\n",
              "      <td>-0.027157</td>\n",
              "      <td>-0.290824</td>\n",
              "      <td>-0.140618</td>\n",
              "      <td>-0.211262</td>\n",
              "      <td>0.257194</td>\n",
              "      <td>-0.006783</td>\n",
              "      <td>...</td>\n",
              "      <td>-0.199095</td>\n",
              "      <td>-0.076073</td>\n",
              "      <td>-0.091490</td>\n",
              "      <td>0.409091</td>\n",
              "      <td>-0.138657</td>\n",
              "      <td>-0.120521</td>\n",
              "      <td>-0.049178</td>\n",
              "      <td>-0.102034</td>\n",
              "      <td>0.074344</td>\n",
              "      <td>0.012842</td>\n",
              "    </tr>\n",
              "    <tr>\n",
              "      <th>niño</th>\n",
              "      <td>-0.163768</td>\n",
              "      <td>-0.294062</td>\n",
              "      <td>0.122578</td>\n",
              "      <td>0.152002</td>\n",
              "      <td>0.149629</td>\n",
              "      <td>-0.065488</td>\n",
              "      <td>-0.050920</td>\n",
              "      <td>-0.409104</td>\n",
              "      <td>0.154769</td>\n",
              "      <td>-0.120814</td>\n",
              "      <td>...</td>\n",
              "      <td>0.057476</td>\n",
              "      <td>0.282848</td>\n",
              "      <td>-0.293337</td>\n",
              "      <td>0.058352</td>\n",
              "      <td>0.132345</td>\n",
              "      <td>0.146489</td>\n",
              "      <td>-0.073507</td>\n",
              "      <td>-0.340581</td>\n",
              "      <td>0.154004</td>\n",
              "      <td>0.130104</td>\n",
              "    </tr>\n",
              "    <tr>\n",
              "      <th>niña</th>\n",
              "      <td>-0.055173</td>\n",
              "      <td>-0.142419</td>\n",
              "      <td>0.215838</td>\n",
              "      <td>0.184544</td>\n",
              "      <td>-0.069941</td>\n",
              "      <td>-0.191414</td>\n",
              "      <td>-0.136663</td>\n",
              "      <td>-0.403305</td>\n",
              "      <td>0.235723</td>\n",
              "      <td>-0.059558</td>\n",
              "      <td>...</td>\n",
              "      <td>0.017596</td>\n",
              "      <td>-0.061825</td>\n",
              "      <td>-0.231494</td>\n",
              "      <td>0.271976</td>\n",
              "      <td>0.037338</td>\n",
              "      <td>0.194672</td>\n",
              "      <td>-0.150918</td>\n",
              "      <td>-0.047116</td>\n",
              "      <td>0.264059</td>\n",
              "      <td>0.169804</td>\n",
              "    </tr>\n",
              "    <tr>\n",
              "      <th>anciano</th>\n",
              "      <td>-0.324883</td>\n",
              "      <td>-0.179371</td>\n",
              "      <td>0.278430</td>\n",
              "      <td>0.183685</td>\n",
              "      <td>0.132469</td>\n",
              "      <td>-0.190020</td>\n",
              "      <td>-0.075106</td>\n",
              "      <td>-0.389574</td>\n",
              "      <td>0.379598</td>\n",
              "      <td>-0.214322</td>\n",
              "      <td>...</td>\n",
              "      <td>-0.044469</td>\n",
              "      <td>0.103505</td>\n",
              "      <td>-0.015144</td>\n",
              "      <td>0.057906</td>\n",
              "      <td>0.154480</td>\n",
              "      <td>0.013753</td>\n",
              "      <td>0.098335</td>\n",
              "      <td>-0.195538</td>\n",
              "      <td>-0.085552</td>\n",
              "      <td>0.111676</td>\n",
              "    </tr>\n",
              "    <tr>\n",
              "      <th>anciana</th>\n",
              "      <td>-0.237837</td>\n",
              "      <td>0.098547</td>\n",
              "      <td>0.068938</td>\n",
              "      <td>0.136460</td>\n",
              "      <td>-0.072329</td>\n",
              "      <td>-0.099849</td>\n",
              "      <td>0.001105</td>\n",
              "      <td>-0.195434</td>\n",
              "      <td>0.442508</td>\n",
              "      <td>-0.118795</td>\n",
              "      <td>...</td>\n",
              "      <td>-0.173420</td>\n",
              "      <td>-0.259782</td>\n",
              "      <td>-0.040729</td>\n",
              "      <td>0.368887</td>\n",
              "      <td>0.030587</td>\n",
              "      <td>-0.129665</td>\n",
              "      <td>-0.072156</td>\n",
              "      <td>-0.086298</td>\n",
              "      <td>0.279293</td>\n",
              "      <td>0.281335</td>\n",
              "    </tr>\n",
              "  </tbody>\n",
              "</table>\n",
              "<p>6 rows × 300 columns</p>\n",
              "</div>\n",
              "    <div class=\"colab-df-buttons\">\n",
              "\n",
              "  <div class=\"colab-df-container\">\n",
              "    <button class=\"colab-df-convert\" onclick=\"convertToInteractive('df-159c2772-0062-4d48-9ea9-0d9e7e2ad2b1')\"\n",
              "            title=\"Convert this dataframe to an interactive table.\"\n",
              "            style=\"display:none;\">\n",
              "\n",
              "  <svg xmlns=\"http://www.w3.org/2000/svg\" height=\"24px\" viewBox=\"0 -960 960 960\">\n",
              "    <path d=\"M120-120v-720h720v720H120Zm60-500h600v-160H180v160Zm220 220h160v-160H400v160Zm0 220h160v-160H400v160ZM180-400h160v-160H180v160Zm440 0h160v-160H620v160ZM180-180h160v-160H180v160Zm440 0h160v-160H620v160Z\"/>\n",
              "  </svg>\n",
              "    </button>\n",
              "\n",
              "  <style>\n",
              "    .colab-df-container {\n",
              "      display:flex;\n",
              "      gap: 12px;\n",
              "    }\n",
              "\n",
              "    .colab-df-convert {\n",
              "      background-color: #E8F0FE;\n",
              "      border: none;\n",
              "      border-radius: 50%;\n",
              "      cursor: pointer;\n",
              "      display: none;\n",
              "      fill: #1967D2;\n",
              "      height: 32px;\n",
              "      padding: 0 0 0 0;\n",
              "      width: 32px;\n",
              "    }\n",
              "\n",
              "    .colab-df-convert:hover {\n",
              "      background-color: #E2EBFA;\n",
              "      box-shadow: 0px 1px 2px rgba(60, 64, 67, 0.3), 0px 1px 3px 1px rgba(60, 64, 67, 0.15);\n",
              "      fill: #174EA6;\n",
              "    }\n",
              "\n",
              "    .colab-df-buttons div {\n",
              "      margin-bottom: 4px;\n",
              "    }\n",
              "\n",
              "    [theme=dark] .colab-df-convert {\n",
              "      background-color: #3B4455;\n",
              "      fill: #D2E3FC;\n",
              "    }\n",
              "\n",
              "    [theme=dark] .colab-df-convert:hover {\n",
              "      background-color: #434B5C;\n",
              "      box-shadow: 0px 1px 3px 1px rgba(0, 0, 0, 0.15);\n",
              "      filter: drop-shadow(0px 1px 2px rgba(0, 0, 0, 0.3));\n",
              "      fill: #FFFFFF;\n",
              "    }\n",
              "  </style>\n",
              "\n",
              "    <script>\n",
              "      const buttonEl =\n",
              "        document.querySelector('#df-159c2772-0062-4d48-9ea9-0d9e7e2ad2b1 button.colab-df-convert');\n",
              "      buttonEl.style.display =\n",
              "        google.colab.kernel.accessAllowed ? 'block' : 'none';\n",
              "\n",
              "      async function convertToInteractive(key) {\n",
              "        const element = document.querySelector('#df-159c2772-0062-4d48-9ea9-0d9e7e2ad2b1');\n",
              "        const dataTable =\n",
              "          await google.colab.kernel.invokeFunction('convertToInteractive',\n",
              "                                                    [key], {});\n",
              "        if (!dataTable) return;\n",
              "\n",
              "        const docLinkHtml = 'Like what you see? Visit the ' +\n",
              "          '<a target=\"_blank\" href=https://colab.research.google.com/notebooks/data_table.ipynb>data table notebook</a>'\n",
              "          + ' to learn more about interactive tables.';\n",
              "        element.innerHTML = '';\n",
              "        dataTable['output_type'] = 'display_data';\n",
              "        await google.colab.output.renderOutput(dataTable, element);\n",
              "        const docLink = document.createElement('div');\n",
              "        docLink.innerHTML = docLinkHtml;\n",
              "        element.appendChild(docLink);\n",
              "      }\n",
              "    </script>\n",
              "  </div>\n",
              "\n",
              "\n",
              "<div id=\"df-1efb8734-0e36-4e88-ad5c-ddbb8cb03476\">\n",
              "  <button class=\"colab-df-quickchart\" onclick=\"quickchart('df-1efb8734-0e36-4e88-ad5c-ddbb8cb03476')\"\n",
              "            title=\"Suggest charts\"\n",
              "            style=\"display:none;\">\n",
              "\n",
              "<svg xmlns=\"http://www.w3.org/2000/svg\" height=\"24px\"viewBox=\"0 0 24 24\"\n",
              "     width=\"24px\">\n",
              "    <g>\n",
              "        <path d=\"M19 3H5c-1.1 0-2 .9-2 2v14c0 1.1.9 2 2 2h14c1.1 0 2-.9 2-2V5c0-1.1-.9-2-2-2zM9 17H7v-7h2v7zm4 0h-2V7h2v10zm4 0h-2v-4h2v4z\"/>\n",
              "    </g>\n",
              "</svg>\n",
              "  </button>\n",
              "\n",
              "<style>\n",
              "  .colab-df-quickchart {\n",
              "      --bg-color: #E8F0FE;\n",
              "      --fill-color: #1967D2;\n",
              "      --hover-bg-color: #E2EBFA;\n",
              "      --hover-fill-color: #174EA6;\n",
              "      --disabled-fill-color: #AAA;\n",
              "      --disabled-bg-color: #DDD;\n",
              "  }\n",
              "\n",
              "  [theme=dark] .colab-df-quickchart {\n",
              "      --bg-color: #3B4455;\n",
              "      --fill-color: #D2E3FC;\n",
              "      --hover-bg-color: #434B5C;\n",
              "      --hover-fill-color: #FFFFFF;\n",
              "      --disabled-bg-color: #3B4455;\n",
              "      --disabled-fill-color: #666;\n",
              "  }\n",
              "\n",
              "  .colab-df-quickchart {\n",
              "    background-color: var(--bg-color);\n",
              "    border: none;\n",
              "    border-radius: 50%;\n",
              "    cursor: pointer;\n",
              "    display: none;\n",
              "    fill: var(--fill-color);\n",
              "    height: 32px;\n",
              "    padding: 0;\n",
              "    width: 32px;\n",
              "  }\n",
              "\n",
              "  .colab-df-quickchart:hover {\n",
              "    background-color: var(--hover-bg-color);\n",
              "    box-shadow: 0 1px 2px rgba(60, 64, 67, 0.3), 0 1px 3px 1px rgba(60, 64, 67, 0.15);\n",
              "    fill: var(--button-hover-fill-color);\n",
              "  }\n",
              "\n",
              "  .colab-df-quickchart-complete:disabled,\n",
              "  .colab-df-quickchart-complete:disabled:hover {\n",
              "    background-color: var(--disabled-bg-color);\n",
              "    fill: var(--disabled-fill-color);\n",
              "    box-shadow: none;\n",
              "  }\n",
              "\n",
              "  .colab-df-spinner {\n",
              "    border: 2px solid var(--fill-color);\n",
              "    border-color: transparent;\n",
              "    border-bottom-color: var(--fill-color);\n",
              "    animation:\n",
              "      spin 1s steps(1) infinite;\n",
              "  }\n",
              "\n",
              "  @keyframes spin {\n",
              "    0% {\n",
              "      border-color: transparent;\n",
              "      border-bottom-color: var(--fill-color);\n",
              "      border-left-color: var(--fill-color);\n",
              "    }\n",
              "    20% {\n",
              "      border-color: transparent;\n",
              "      border-left-color: var(--fill-color);\n",
              "      border-top-color: var(--fill-color);\n",
              "    }\n",
              "    30% {\n",
              "      border-color: transparent;\n",
              "      border-left-color: var(--fill-color);\n",
              "      border-top-color: var(--fill-color);\n",
              "      border-right-color: var(--fill-color);\n",
              "    }\n",
              "    40% {\n",
              "      border-color: transparent;\n",
              "      border-right-color: var(--fill-color);\n",
              "      border-top-color: var(--fill-color);\n",
              "    }\n",
              "    60% {\n",
              "      border-color: transparent;\n",
              "      border-right-color: var(--fill-color);\n",
              "    }\n",
              "    80% {\n",
              "      border-color: transparent;\n",
              "      border-right-color: var(--fill-color);\n",
              "      border-bottom-color: var(--fill-color);\n",
              "    }\n",
              "    90% {\n",
              "      border-color: transparent;\n",
              "      border-bottom-color: var(--fill-color);\n",
              "    }\n",
              "  }\n",
              "</style>\n",
              "\n",
              "  <script>\n",
              "    async function quickchart(key) {\n",
              "      const quickchartButtonEl =\n",
              "        document.querySelector('#' + key + ' button');\n",
              "      quickchartButtonEl.disabled = true;  // To prevent multiple clicks.\n",
              "      quickchartButtonEl.classList.add('colab-df-spinner');\n",
              "      try {\n",
              "        const charts = await google.colab.kernel.invokeFunction(\n",
              "            'suggestCharts', [key], {});\n",
              "      } catch (error) {\n",
              "        console.error('Error during call to suggestCharts:', error);\n",
              "      }\n",
              "      quickchartButtonEl.classList.remove('colab-df-spinner');\n",
              "      quickchartButtonEl.classList.add('colab-df-quickchart-complete');\n",
              "    }\n",
              "    (() => {\n",
              "      let quickchartButtonEl =\n",
              "        document.querySelector('#df-1efb8734-0e36-4e88-ad5c-ddbb8cb03476 button');\n",
              "      quickchartButtonEl.style.display =\n",
              "        google.colab.kernel.accessAllowed ? 'block' : 'none';\n",
              "    })();\n",
              "  </script>\n",
              "</div>\n",
              "\n",
              "  <div id=\"id_48abfd3e-479f-4d3b-b76f-3044816412dd\">\n",
              "    <style>\n",
              "      .colab-df-generate {\n",
              "        background-color: #E8F0FE;\n",
              "        border: none;\n",
              "        border-radius: 50%;\n",
              "        cursor: pointer;\n",
              "        display: none;\n",
              "        fill: #1967D2;\n",
              "        height: 32px;\n",
              "        padding: 0 0 0 0;\n",
              "        width: 32px;\n",
              "      }\n",
              "\n",
              "      .colab-df-generate:hover {\n",
              "        background-color: #E2EBFA;\n",
              "        box-shadow: 0px 1px 2px rgba(60, 64, 67, 0.3), 0px 1px 3px 1px rgba(60, 64, 67, 0.15);\n",
              "        fill: #174EA6;\n",
              "      }\n",
              "\n",
              "      [theme=dark] .colab-df-generate {\n",
              "        background-color: #3B4455;\n",
              "        fill: #D2E3FC;\n",
              "      }\n",
              "\n",
              "      [theme=dark] .colab-df-generate:hover {\n",
              "        background-color: #434B5C;\n",
              "        box-shadow: 0px 1px 3px 1px rgba(0, 0, 0, 0.15);\n",
              "        filter: drop-shadow(0px 1px 2px rgba(0, 0, 0, 0.3));\n",
              "        fill: #FFFFFF;\n",
              "      }\n",
              "    </style>\n",
              "    <button class=\"colab-df-generate\" onclick=\"generateWithVariable('X')\"\n",
              "            title=\"Generate code using this dataframe.\"\n",
              "            style=\"display:none;\">\n",
              "\n",
              "  <svg xmlns=\"http://www.w3.org/2000/svg\" height=\"24px\"viewBox=\"0 0 24 24\"\n",
              "       width=\"24px\">\n",
              "    <path d=\"M7,19H8.4L18.45,9,17,7.55,7,17.6ZM5,21V16.75L18.45,3.32a2,2,0,0,1,2.83,0l1.4,1.43a1.91,1.91,0,0,1,.58,1.4,1.91,1.91,0,0,1-.58,1.4L9.25,21ZM18.45,9,17,7.55Zm-12,3A5.31,5.31,0,0,0,4.9,8.1,5.31,5.31,0,0,0,1,6.5,5.31,5.31,0,0,0,4.9,4.9,5.31,5.31,0,0,0,6.5,1,5.31,5.31,0,0,0,8.1,4.9,5.31,5.31,0,0,0,12,6.5,5.46,5.46,0,0,0,6.5,12Z\"/>\n",
              "  </svg>\n",
              "    </button>\n",
              "    <script>\n",
              "      (() => {\n",
              "      const buttonEl =\n",
              "        document.querySelector('#id_48abfd3e-479f-4d3b-b76f-3044816412dd button.colab-df-generate');\n",
              "      buttonEl.style.display =\n",
              "        google.colab.kernel.accessAllowed ? 'block' : 'none';\n",
              "\n",
              "      buttonEl.onclick = () => {\n",
              "        google.colab.notebook.generateWithVariable('X');\n",
              "      }\n",
              "      })();\n",
              "    </script>\n",
              "  </div>\n",
              "\n",
              "    </div>\n",
              "  </div>\n"
            ],
            "application/vnd.google.colaboratory.intrinsic+json": {
              "type": "dataframe",
              "variable_name": "X"
            }
          },
          "metadata": {},
          "execution_count": 7
        }
      ]
    },
    {
      "cell_type": "markdown",
      "metadata": {
        "id": "UC15Lp5csSOt"
      },
      "source": [
        "<h2> Visualización de vectores"
      ]
    },
    {
      "cell_type": "code",
      "metadata": {
        "colab": {
          "base_uri": "https://localhost:8080/",
          "height": 270
        },
        "id": "cMoPIz8PsAZV",
        "outputId": "9114353e-9120-43d8-cbdf-7ad76e71cb83"
      },
      "source": [
        "#Visualización de los vectores de las palabas elegidas\n",
        "fig = plt.figure(figsize = (25, 6))\n",
        "v_max = X.max().max()\n",
        "v_min = X.min().min()\n",
        "ax = sns.heatmap(X, vmin = v_min, vmax = v_max, center = 0)"
      ],
      "execution_count": null,
      "outputs": [
        {
          "output_type": "display_data",
          "data": {
            "text/plain": [
              "<Figure size 2500x600 with 2 Axes>"
            ],
            "image/png": "[encoded data removed]"
          },
          "metadata": {}
        }
      ]
    },
    {
      "cell_type": "markdown",
      "metadata": {
        "id": "YhTTzuvbsXPa"
      },
      "source": [
        "<h2> Visualización de vectores en un espacio tridimensional"
      ]
    },
    {
      "cell_type": "code",
      "metadata": {
        "colab": {
          "base_uri": "https://localhost:8080/",
          "height": 542
        },
        "id": "_eVDeDk_unYM",
        "outputId": "f53edef7-9cc7-4e35-ee97-82dc56a8ba8f"
      },
      "source": [
        "import plotly.express as px\n",
        "from sklearn.decomposition import PCA\n",
        "\n",
        "pca = PCA(n_components=3)\n",
        "components = pd.DataFrame(pca.fit_transform(X), index = X.index)\n",
        "components.reset_index(inplace=True)\n",
        "\n",
        "\n",
        "fig = px.scatter_3d( components, x=0, y=1, z=2, color='index',\n",
        "                    labels={'0': 'PC 1', '1': 'PC 2', '2': 'PC 3'})\n",
        "fig.show()"
      ],
      "execution_count": 8,
      "outputs": [
        {
          "output_type": "display_data",
          "data": {
            "text/html": [
              "<html>\n",
              "<head><meta charset=\"utf-8\" /></head>\n",
              "<body>\n",
              "    <div>            <script src=\"https://cdnjs.cloudflare.com/ajax/libs/mathjax/2.7.5/MathJax.js?config=TeX-AMS-MML_SVG\"></script><script type=\"text/javascript\">if (window.MathJax && window.MathJax.Hub && window.MathJax.Hub.Config) {window.MathJax.Hub.Config({SVG: {font: \"STIX-Web\"}});}</script>                <script type=\"text/javascript\">window.PlotlyConfig = {MathJaxConfig: 'local'};</script>\n",
              "        <script charset=\"utf-8\" src=\"https://cdn.plot.ly/plotly-2.35.2.min.js\"></script>                <div id=\"cf4dea02-a18a-4582-871d-984fbb3092c2\" class=\"plotly-graph-div\" style=\"height:525px; width:100%;\"></div>            <script type=\"text/javascript\">                                    window.PLOTLYENV=window.PLOTLYENV || {};                                    if (document.getElementById(\"cf4dea02-a18a-4582-871d-984fbb3092c2\")) {                    Plotly.newPlot(                        \"cf4dea02-a18a-4582-871d-984fbb3092c2\",                        [{\"hovertemplate\":\"index=hombre\\u003cbr\\u003ePC 1=%{x}\\u003cbr\\u003ePC 2=%{y}\\u003cbr\\u003ePC 3=%{z}\\u003cextra\\u003e\\u003c\\u002fextra\\u003e\",\"legendgroup\":\"hombre\",\"marker\":{\"color\":\"#636efa\",\"symbol\":\"circle\"},\"mode\":\"markers\",\"name\":\"hombre\",\"scene\":\"scene\",\"showlegend\":true,\"x\":[-1.1287338],\"y\":[-0.7200358],\"z\":[-1.1132448],\"type\":\"scatter3d\"},{\"hovertemplate\":\"index=mujer\\u003cbr\\u003ePC 1=%{x}\\u003cbr\\u003ePC 2=%{y}\\u003cbr\\u003ePC 3=%{z}\\u003cextra\\u003e\\u003c\\u002fextra\\u003e\",\"legendgroup\":\"mujer\",\"marker\":{\"color\":\"#EF553B\",\"symbol\":\"circle\"},\"mode\":\"markers\",\"name\":\"mujer\",\"scene\":\"scene\",\"showlegend\":true,\"x\":[0.20940715],\"y\":[0.5776145],\"z\":[-1.2935914],\"type\":\"scatter3d\"},{\"hovertemplate\":\"index=niño\\u003cbr\\u003ePC 1=%{x}\\u003cbr\\u003ePC 2=%{y}\\u003cbr\\u003ePC 3=%{z}\\u003cextra\\u003e\\u003c\\u002fextra\\u003e\",\"legendgroup\":\"niño\",\"marker\":{\"color\":\"#00cc96\",\"symbol\":\"circle\"},\"mode\":\"markers\",\"name\":\"niño\",\"scene\":\"scene\",\"showlegend\":true,\"x\":[0.9079747],\"y\":[-1.3247112],\"z\":[0.6500063],\"type\":\"scatter3d\"},{\"hovertemplate\":\"index=niña\\u003cbr\\u003ePC 1=%{x}\\u003cbr\\u003ePC 2=%{y}\\u003cbr\\u003ePC 3=%{z}\\u003cextra\\u003e\\u003c\\u002fextra\\u003e\",\"legendgroup\":\"niña\",\"marker\":{\"color\":\"#ab63fa\",\"symbol\":\"circle\"},\"mode\":\"markers\",\"name\":\"niña\",\"scene\":\"scene\",\"showlegend\":true,\"x\":[1.7429863],\"y\":[0.13154016],\"z\":[0.06706372],\"type\":\"scatter3d\"},{\"hovertemplate\":\"index=anciano\\u003cbr\\u003ePC 1=%{x}\\u003cbr\\u003ePC 2=%{y}\\u003cbr\\u003ePC 3=%{z}\\u003cextra\\u003e\\u003c\\u002fextra\\u003e\",\"legendgroup\":\"anciano\",\"marker\":{\"color\":\"#FFA15A\",\"symbol\":\"circle\"},\"mode\":\"markers\",\"name\":\"anciano\",\"scene\":\"scene\",\"showlegend\":true,\"x\":[-1.510543],\"y\":[-0.2599047],\"z\":[1.0230376],\"type\":\"scatter3d\"},{\"hovertemplate\":\"index=anciana\\u003cbr\\u003ePC 1=%{x}\\u003cbr\\u003ePC 2=%{y}\\u003cbr\\u003ePC 3=%{z}\\u003cextra\\u003e\\u003c\\u002fextra\\u003e\",\"legendgroup\":\"anciana\",\"marker\":{\"color\":\"#19d3f3\",\"symbol\":\"circle\"},\"mode\":\"markers\",\"name\":\"anciana\",\"scene\":\"scene\",\"showlegend\":true,\"x\":[-0.22109191],\"y\":[1.5954958],\"z\":[0.66672903],\"type\":\"scatter3d\"}],                        {\"template\":{\"data\":{\"histogram2dcontour\":[{\"type\":\"histogram2dcontour\",\"colorbar\":{\"outlinewidth\":0,\"ticks\":\"\"},\"colorscale\":[[0.0,\"#0d0887\"],[0.1111111111111111,\"#46039f\"],[0.2222222222222222,\"#7201a8\"],[0.3333333333333333,\"#9c179e\"],[0.4444444444444444,\"#bd3786\"],[0.5555555555555556,\"#d8576b\"],[0.6666666666666666,\"#ed7953\"],[0.7777777777777778,\"#fb9f3a\"],[0.8888888888888888,\"#fdca26\"],[1.0,\"#f0f921\"]]}],\"choropleth\":[{\"type\":\"choropleth\",\"colorbar\":{\"outlinewidth\":0,\"ticks\":\"\"}}],\"histogram2d\":[{\"type\":\"histogram2d\",\"colorbar\":{\"outlinewidth\":0,\"ticks\":\"\"},\"colorscale\":[[0.0,\"#0d0887\"],[0.1111111111111111,\"#46039f\"],[0.2222222222222222,\"#7201a8\"],[0.3333333333333333,\"#9c179e\"],[0.4444444444444444,\"#bd3786\"],[0.5555555555555556,\"#d8576b\"],[0.6666666666666666,\"#ed7953\"],[0.7777777777777778,\"#fb9f3a\"],[0.8888888888888888,\"#fdca26\"],[1.0,\"#f0f921\"]]}],\"heatmap\":[{\"type\":\"heatmap\",\"colorbar\":{\"outlinewidth\":0,\"ticks\":\"\"},\"colorscale\":[[0.0,\"#0d0887\"],[0.1111111111111111,\"#46039f\"],[0.2222222222222222,\"#7201a8\"],[0.3333333333333333,\"#9c179e\"],[0.4444444444444444,\"#bd3786\"],[0.5555555555555556,\"#d8576b\"],[0.6666666666666666,\"#ed7953\"],[0.7777777777777778,\"#fb9f3a\"],[0.8888888888888888,\"#fdca26\"],[1.0,\"#f0f921\"]]}],\"heatmapgl\":[{\"type\":\"heatmapgl\",\"colorbar\":{\"outlinewidth\":0,\"ticks\":\"\"},\"colorscale\":[[0.0,\"#0d0887\"],[0.1111111111111111,\"#46039f\"],[0.2222222222222222,\"#7201a8\"],[0.3333333333333333,\"#9c179e\"],[0.4444444444444444,\"#bd3786\"],[0.5555555555555556,\"#d8576b\"],[0.6666666666666666,\"#ed7953\"],[0.7777777777777778,\"#fb9f3a\"],[0.8888888888888888,\"#fdca26\"],[1.0,\"#f0f921\"]]}],\"contourcarpet\":[{\"type\":\"contourcarpet\",\"colorbar\":{\"outlinewidth\":0,\"ticks\":\"\"}}],\"contour\":[{\"type\":\"contour\",\"colorbar\":{\"outlinewidth\":0,\"ticks\":\"\"},\"colorscale\":[[0.0,\"#0d0887\"],[0.1111111111111111,\"#46039f\"],[0.2222222222222222,\"#7201a8\"],[0.3333333333333333,\"#9c179e\"],[0.4444444444444444,\"#bd3786\"],[0.5555555555555556,\"#d8576b\"],[0.6666666666666666,\"#ed7953\"],[0.7777777777777778,\"#fb9f3a\"],[0.8888888888888888,\"#fdca26\"],[1.0,\"#f0f921\"]]}],\"surface\":[{\"type\":\"surface\",\"colorbar\":{\"outlinewidth\":0,\"ticks\":\"\"},\"colorscale\":[[0.0,\"#0d0887\"],[0.1111111111111111,\"#46039f\"],[0.2222222222222222,\"#7201a8\"],[0.3333333333333333,\"#9c179e\"],[0.4444444444444444,\"#bd3786\"],[0.5555555555555556,\"#d8576b\"],[0.6666666666666666,\"#ed7953\"],[0.7777777777777778,\"#fb9f3a\"],[0.8888888888888888,\"#fdca26\"],[1.0,\"#f0f921\"]]}],\"mesh3d\":[{\"type\":\"mesh3d\",\"colorbar\":{\"outlinewidth\":0,\"ticks\":\"\"}}],\"scatter\":[{\"fillpattern\":{\"fillmode\":\"overlay\",\"size\":10,\"solidity\":0.2},\"type\":\"scatter\"}],\"parcoords\":[{\"type\":\"parcoords\",\"line\":{\"colorbar\":{\"outlinewidth\":0,\"ticks\":\"\"}}}],\"scatterpolargl\":[{\"type\":\"scatterpolargl\",\"marker\":{\"colorbar\":{\"outlinewidth\":0,\"ticks\":\"\"}}}],\"bar\":[{\"error_x\":{\"color\":\"#2a3f5f\"},\"error_y\":{\"color\":\"#2a3f5f\"},\"marker\":{\"line\":{\"color\":\"#E5ECF6\",\"width\":0.5},\"pattern\":{\"fillmode\":\"overlay\",\"size\":10,\"solidity\":0.2}},\"type\":\"bar\"}],\"scattergeo\":[{\"type\":\"scattergeo\",\"marker\":{\"colorbar\":{\"outlinewidth\":0,\"ticks\":\"\"}}}],\"scatterpolar\":[{\"type\":\"scatterpolar\",\"marker\":{\"colorbar\":{\"outlinewidth\":0,\"ticks\":\"\"}}}],\"histogram\":[{\"marker\":{\"pattern\":{\"fillmode\":\"overlay\",\"size\":10,\"solidity\":0.2}},\"type\":\"histogram\"}],\"scattergl\":[{\"type\":\"scattergl\",\"marker\":{\"colorbar\":{\"outlinewidth\":0,\"ticks\":\"\"}}}],\"scatter3d\":[{\"type\":\"scatter3d\",\"line\":{\"colorbar\":{\"outlinewidth\":0,\"ticks\":\"\"}},\"marker\":{\"colorbar\":{\"outlinewidth\":0,\"ticks\":\"\"}}}],\"scattermapbox\":[{\"type\":\"scattermapbox\",\"marker\":{\"colorbar\":{\"outlinewidth\":0,\"ticks\":\"\"}}}],\"scatterternary\":[{\"type\":\"scatterternary\",\"marker\":{\"colorbar\":{\"outlinewidth\":0,\"ticks\":\"\"}}}],\"scattercarpet\":[{\"type\":\"scattercarpet\",\"marker\":{\"colorbar\":{\"outlinewidth\":0,\"ticks\":\"\"}}}],\"carpet\":[{\"aaxis\":{\"endlinecolor\":\"#2a3f5f\",\"gridcolor\":\"white\",\"linecolor\":\"white\",\"minorgridcolor\":\"white\",\"startlinecolor\":\"#2a3f5f\"},\"baxis\":{\"endlinecolor\":\"#2a3f5f\",\"gridcolor\":\"white\",\"linecolor\":\"white\",\"minorgridcolor\":\"white\",\"startlinecolor\":\"#2a3f5f\"},\"type\":\"carpet\"}],\"table\":[{\"cells\":{\"fill\":{\"color\":\"#EBF0F8\"},\"line\":{\"color\":\"white\"}},\"header\":{\"fill\":{\"color\":\"#C8D4E3\"},\"line\":{\"color\":\"white\"}},\"type\":\"table\"}],\"barpolar\":[{\"marker\":{\"line\":{\"color\":\"#E5ECF6\",\"width\":0.5},\"pattern\":{\"fillmode\":\"overlay\",\"size\":10,\"solidity\":0.2}},\"type\":\"barpolar\"}],\"pie\":[{\"automargin\":true,\"type\":\"pie\"}]},\"layout\":{\"autotypenumbers\":\"strict\",\"colorway\":[\"#636efa\",\"#EF553B\",\"#00cc96\",\"#ab63fa\",\"#FFA15A\",\"#19d3f3\",\"#FF6692\",\"#B6E880\",\"#FF97FF\",\"#FECB52\"],\"font\":{\"color\":\"#2a3f5f\"},\"hovermode\":\"closest\",\"hoverlabel\":{\"align\":\"left\"},\"paper_bgcolor\":\"white\",\"plot_bgcolor\":\"#E5ECF6\",\"polar\":{\"bgcolor\":\"#E5ECF6\",\"angularaxis\":{\"gridcolor\":\"white\",\"linecolor\":\"white\",\"ticks\":\"\"},\"radialaxis\":{\"gridcolor\":\"white\",\"linecolor\":\"white\",\"ticks\":\"\"}},\"ternary\":{\"bgcolor\":\"#E5ECF6\",\"aaxis\":{\"gridcolor\":\"white\",\"linecolor\":\"white\",\"ticks\":\"\"},\"baxis\":{\"gridcolor\":\"white\",\"linecolor\":\"white\",\"ticks\":\"\"},\"caxis\":{\"gridcolor\":\"white\",\"linecolor\":\"white\",\"ticks\":\"\"}},\"coloraxis\":{\"colorbar\":{\"outlinewidth\":0,\"ticks\":\"\"}},\"colorscale\":{\"sequential\":[[0.0,\"#0d0887\"],[0.1111111111111111,\"#46039f\"],[0.2222222222222222,\"#7201a8\"],[0.3333333333333333,\"#9c179e\"],[0.4444444444444444,\"#bd3786\"],[0.5555555555555556,\"#d8576b\"],[0.6666666666666666,\"#ed7953\"],[0.7777777777777778,\"#fb9f3a\"],[0.8888888888888888,\"#fdca26\"],[1.0,\"#f0f921\"]],\"sequentialminus\":[[0.0,\"#0d0887\"],[0.1111111111111111,\"#46039f\"],[0.2222222222222222,\"#7201a8\"],[0.3333333333333333,\"#9c179e\"],[0.4444444444444444,\"#bd3786\"],[0.5555555555555556,\"#d8576b\"],[0.6666666666666666,\"#ed7953\"],[0.7777777777777778,\"#fb9f3a\"],[0.8888888888888888,\"#fdca26\"],[1.0,\"#f0f921\"]],\"diverging\":[[0,\"#8e0152\"],[0.1,\"#c51b7d\"],[0.2,\"#de77ae\"],[0.3,\"#f1b6da\"],[0.4,\"#fde0ef\"],[0.5,\"#f7f7f7\"],[0.6,\"#e6f5d0\"],[0.7,\"#b8e186\"],[0.8,\"#7fbc41\"],[0.9,\"#4d9221\"],[1,\"#276419\"]]},\"xaxis\":{\"gridcolor\":\"white\",\"linecolor\":\"white\",\"ticks\":\"\",\"title\":{\"standoff\":15},\"zerolinecolor\":\"white\",\"automargin\":true,\"zerolinewidth\":2},\"yaxis\":{\"gridcolor\":\"white\",\"linecolor\":\"white\",\"ticks\":\"\",\"title\":{\"standoff\":15},\"zerolinecolor\":\"white\",\"automargin\":true,\"zerolinewidth\":2},\"scene\":{\"xaxis\":{\"backgroundcolor\":\"#E5ECF6\",\"gridcolor\":\"white\",\"linecolor\":\"white\",\"showbackground\":true,\"ticks\":\"\",\"zerolinecolor\":\"white\",\"gridwidth\":2},\"yaxis\":{\"backgroundcolor\":\"#E5ECF6\",\"gridcolor\":\"white\",\"linecolor\":\"white\",\"showbackground\":true,\"ticks\":\"\",\"zerolinecolor\":\"white\",\"gridwidth\":2},\"zaxis\":{\"backgroundcolor\":\"#E5ECF6\",\"gridcolor\":\"white\",\"linecolor\":\"white\",\"showbackground\":true,\"ticks\":\"\",\"zerolinecolor\":\"white\",\"gridwidth\":2}},\"shapedefaults\":{\"line\":{\"color\":\"#2a3f5f\"}},\"annotationdefaults\":{\"arrowcolor\":\"#2a3f5f\",\"arrowhead\":0,\"arrowwidth\":1},\"geo\":{\"bgcolor\":\"white\",\"landcolor\":\"#E5ECF6\",\"subunitcolor\":\"white\",\"showland\":true,\"showlakes\":true,\"lakecolor\":\"white\"},\"title\":{\"x\":0.05},\"mapbox\":{\"style\":\"light\"}}},\"scene\":{\"domain\":{\"x\":[0.0,1.0],\"y\":[0.0,1.0]},\"xaxis\":{\"title\":{\"text\":\"PC 1\"}},\"yaxis\":{\"title\":{\"text\":\"PC 2\"}},\"zaxis\":{\"title\":{\"text\":\"PC 3\"}}},\"legend\":{\"title\":{\"text\":\"index\"},\"tracegroupgap\":0},\"margin\":{\"t\":60}},                        {\"responsive\": true}                    ).then(function(){\n",
              "                            \n",
              "var gd = document.getElementById('cf4dea02-a18a-4582-871d-984fbb3092c2');\n",
              "var x = new MutationObserver(function (mutations, observer) {{\n",
              "        var display = window.getComputedStyle(gd).display;\n",
              "        if (!display || display === 'none') {{\n",
              "            console.log([gd, 'removed!']);\n",
              "            Plotly.purge(gd);\n",
              "            observer.disconnect();\n",
              "        }}\n",
              "}});\n",
              "\n",
              "// Listen for the removal of the full notebook cells\n",
              "var notebookContainer = gd.closest('#notebook-container');\n",
              "if (notebookContainer) {{\n",
              "    x.observe(notebookContainer, {childList: true});\n",
              "}}\n",
              "\n",
              "// Listen for the clearing of the current output cell\n",
              "var outputEl = gd.closest('.output');\n",
              "if (outputEl) {{\n",
              "    x.observe(outputEl, {childList: true});\n",
              "}}\n",
              "\n",
              "                        })                };                            </script>        </div>\n",
              "</body>\n",
              "</html>"
            ]
          },
          "metadata": {}
        }
      ]
    },
    {
      "cell_type": "markdown",
      "metadata": {
        "id": "S5ot6RltshpT"
      },
      "source": [
        "# Similitud entre vectores\n",
        "[similitud coseno](https://en.wikipedia.org/wiki/Cosine_similarity)"
      ]
    },
    {
      "cell_type": "markdown",
      "source": [
        "## Similitud entre dos palabras"
      ],
      "metadata": {
        "id": "TjVtt4A3vEyy"
      }
    },
    {
      "cell_type": "code",
      "metadata": {
        "id": "n31R_6YVmiHb"
      },
      "source": [
        "def similitud_coseno(a_vector, b_vector):\n",
        "    '''Calcula la similitud coseno entre los vectores a y b'''\n",
        "\n",
        "    numerador = np.dot(a_vector, b_vector)\n",
        "\n",
        "    a_norm = np.sqrt(np.sum(a_vector**2))\n",
        "    b_norm = np.sqrt(np.sum(b_vector**2))\n",
        "\n",
        "    denominador = a_norm * b_norm\n",
        "\n",
        "    similitud_coseno = numerador / denominador\n",
        "\n",
        "    return similitud_coseno"
      ],
      "execution_count": 9,
      "outputs": []
    },
    {
      "cell_type": "code",
      "metadata": {
        "colab": {
          "base_uri": "https://localhost:8080/"
        },
        "id": "WvRLcCJF5486",
        "outputId": "710b6cfe-8ddf-40d0-c260-b8a52254afa4"
      },
      "source": [
        "similitud_coseno(dic_word2vec['computadora'], dic_word2vec['calculadora'])"
      ],
      "execution_count": 10,
      "outputs": [
        {
          "output_type": "execute_result",
          "data": {
            "text/plain": [
              "0.58049077"
            ]
          },
          "metadata": {},
          "execution_count": 10
        }
      ]
    },
    {
      "cell_type": "code",
      "metadata": {
        "colab": {
          "base_uri": "https://localhost:8080/"
        },
        "outputId": "edd57157-e107-4b11-cadf-41e92e3ad329",
        "id": "_s8Yd0jiFWuf"
      },
      "source": [
        "similitud_coseno(dic_word2vec['computadora'], dic_word2vec['laptop'])"
      ],
      "execution_count": 11,
      "outputs": [
        {
          "output_type": "execute_result",
          "data": {
            "text/plain": [
              "0.6776528"
            ]
          },
          "metadata": {},
          "execution_count": 11
        }
      ]
    },
    {
      "cell_type": "markdown",
      "source": [
        "## Similitud de una palabra con palabras seleccionadas"
      ],
      "metadata": {
        "id": "p4pVaFOXuu8v"
      }
    },
    {
      "cell_type": "code",
      "metadata": {
        "id": "WvGE2f77TdFW"
      },
      "source": [
        "def encuentra_similitudes(palabra, texto):\n",
        "  lista = texto.split()\n",
        "  lista.append(palabra)\n",
        "  vectores = {}\n",
        "  for p in lista:\n",
        "    vectores[p] = dic_word2vec[p]\n",
        "  X = pd.DataFrame.from_dict(vectores, orient='index')\n",
        "\n",
        "  pca = PCA(n_components=3)\n",
        "  components = pd.DataFrame(pca.fit_transform(X), index = X.index)\n",
        "  components.reset_index(inplace=True)\n",
        "\n",
        "  fig = px.scatter_3d(\n",
        "        components, x=0, y=1, z=2, color='index',\n",
        "        labels={'0': 'PC 1', '1': 'PC 2', '2': 'PC 3'})\n",
        "  fig.show()\n",
        "\n",
        "  palabra_vec = X.loc[palabra, :]\n",
        "  similitud={}\n",
        "  for p in lista[:-1]:    # todas las palabras excepto la última\n",
        "    p_vec = X.loc[p,:]\n",
        "    similitud[p] = similitud_coseno(palabra_vec, p_vec)\n",
        "  print(pd.Series(similitud).sort_values())\n"
      ],
      "execution_count": 13,
      "outputs": []
    },
    {
      "cell_type": "code",
      "metadata": {
        "colab": {
          "base_uri": "https://localhost:8080/",
          "height": 698
        },
        "id": "bmKygsiMV41W",
        "outputId": "bcce21d4-0b79-4816-9d3a-2392daa3688e"
      },
      "source": [
        "encuentra_similitudes('perro', 'gato pájaro tiburón libélula lobo mariposa araña ardilla')"
      ],
      "execution_count": 14,
      "outputs": [
        {
          "output_type": "display_data",
          "data": {
            "text/html": [
              "<html>\n",
              "<head><meta charset=\"utf-8\" /></head>\n",
              "<body>\n",
              "    <div>            <script src=\"https://cdnjs.cloudflare.com/ajax/libs/mathjax/2.7.5/MathJax.js?config=TeX-AMS-MML_SVG\"></script><script type=\"text/javascript\">if (window.MathJax && window.MathJax.Hub && window.MathJax.Hub.Config) {window.MathJax.Hub.Config({SVG: {font: \"STIX-Web\"}});}</script>                <script type=\"text/javascript\">window.PlotlyConfig = {MathJaxConfig: 'local'};</script>\n",
              "        <script charset=\"utf-8\" src=\"https://cdn.plot.ly/plotly-2.35.2.min.js\"></script>                <div id=\"6a7cc92a-c5e3-4249-b618-68c399321995\" class=\"plotly-graph-div\" style=\"height:525px; width:100%;\"></div>            <script type=\"text/javascript\">                                    window.PLOTLYENV=window.PLOTLYENV || {};                                    if (document.getElementById(\"6a7cc92a-c5e3-4249-b618-68c399321995\")) {                    Plotly.newPlot(                        \"6a7cc92a-c5e3-4249-b618-68c399321995\",                        [{\"hovertemplate\":\"index=gato\\u003cbr\\u003ePC 1=%{x}\\u003cbr\\u003ePC 2=%{y}\\u003cbr\\u003ePC 3=%{z}\\u003cextra\\u003e\\u003c\\u002fextra\\u003e\",\"legendgroup\":\"gato\",\"marker\":{\"color\":\"#636efa\",\"symbol\":\"circle\"},\"mode\":\"markers\",\"name\":\"gato\",\"scene\":\"scene\",\"showlegend\":true,\"x\":[1.4809582],\"y\":[-0.32125878],\"z\":[0.50714666],\"type\":\"scatter3d\"},{\"hovertemplate\":\"index=pájaro\\u003cbr\\u003ePC 1=%{x}\\u003cbr\\u003ePC 2=%{y}\\u003cbr\\u003ePC 3=%{z}\\u003cextra\\u003e\\u003c\\u002fextra\\u003e\",\"legendgroup\":\"pájaro\",\"marker\":{\"color\":\"#EF553B\",\"symbol\":\"circle\"},\"mode\":\"markers\",\"name\":\"pájaro\",\"scene\":\"scene\",\"showlegend\":true,\"x\":[-0.32322994],\"y\":[-0.3643909],\"z\":[0.3545075],\"type\":\"scatter3d\"},{\"hovertemplate\":\"index=tiburón\\u003cbr\\u003ePC 1=%{x}\\u003cbr\\u003ePC 2=%{y}\\u003cbr\\u003ePC 3=%{z}\\u003cextra\\u003e\\u003c\\u002fextra\\u003e\",\"legendgroup\":\"tiburón\",\"marker\":{\"color\":\"#00cc96\",\"symbol\":\"circle\"},\"mode\":\"markers\",\"name\":\"tiburón\",\"scene\":\"scene\",\"showlegend\":true,\"x\":[-0.23659809],\"y\":[2.9640718],\"z\":[-1.5757519],\"type\":\"scatter3d\"},{\"hovertemplate\":\"index=libélula\\u003cbr\\u003ePC 1=%{x}\\u003cbr\\u003ePC 2=%{y}\\u003cbr\\u003ePC 3=%{z}\\u003cextra\\u003e\\u003c\\u002fextra\\u003e\",\"legendgroup\":\"libélula\",\"marker\":{\"color\":\"#ab63fa\",\"symbol\":\"circle\"},\"mode\":\"markers\",\"name\":\"libélula\",\"scene\":\"scene\",\"showlegend\":true,\"x\":[-1.2600873],\"y\":[-0.29081115],\"z\":[-0.43211728],\"type\":\"scatter3d\"},{\"hovertemplate\":\"index=lobo\\u003cbr\\u003ePC 1=%{x}\\u003cbr\\u003ePC 2=%{y}\\u003cbr\\u003ePC 3=%{z}\\u003cextra\\u003e\\u003c\\u002fextra\\u003e\",\"legendgroup\":\"lobo\",\"marker\":{\"color\":\"#FFA15A\",\"symbol\":\"circle\"},\"mode\":\"markers\",\"name\":\"lobo\",\"scene\":\"scene\",\"showlegend\":true,\"x\":[1.3888747],\"y\":[0.64125645],\"z\":[1.0324445],\"type\":\"scatter3d\"},{\"hovertemplate\":\"index=mariposa\\u003cbr\\u003ePC 1=%{x}\\u003cbr\\u003ePC 2=%{y}\\u003cbr\\u003ePC 3=%{z}\\u003cextra\\u003e\\u003c\\u002fextra\\u003e\",\"legendgroup\":\"mariposa\",\"marker\":{\"color\":\"#19d3f3\",\"symbol\":\"circle\"},\"mode\":\"markers\",\"name\":\"mariposa\",\"scene\":\"scene\",\"showlegend\":true,\"x\":[-2.6935503],\"y\":[-0.09568493],\"z\":[1.4622194],\"type\":\"scatter3d\"},{\"hovertemplate\":\"index=araña\\u003cbr\\u003ePC 1=%{x}\\u003cbr\\u003ePC 2=%{y}\\u003cbr\\u003ePC 3=%{z}\\u003cextra\\u003e\\u003c\\u002fextra\\u003e\",\"legendgroup\":\"araña\",\"marker\":{\"color\":\"#FF6692\",\"symbol\":\"circle\"},\"mode\":\"markers\",\"name\":\"araña\",\"scene\":\"scene\",\"showlegend\":true,\"x\":[-1.1013813],\"y\":[-0.9614425],\"z\":[-0.81440365],\"type\":\"scatter3d\"},{\"hovertemplate\":\"index=ardilla\\u003cbr\\u003ePC 1=%{x}\\u003cbr\\u003ePC 2=%{y}\\u003cbr\\u003ePC 3=%{z}\\u003cextra\\u003e\\u003c\\u002fextra\\u003e\",\"legendgroup\":\"ardilla\",\"marker\":{\"color\":\"#B6E880\",\"symbol\":\"circle\"},\"mode\":\"markers\",\"name\":\"ardilla\",\"scene\":\"scene\",\"showlegend\":true,\"x\":[1.0874548],\"y\":[-1.9133584],\"z\":[-1.647188],\"type\":\"scatter3d\"},{\"hovertemplate\":\"index=perro\\u003cbr\\u003ePC 1=%{x}\\u003cbr\\u003ePC 2=%{y}\\u003cbr\\u003ePC 3=%{z}\\u003cextra\\u003e\\u003c\\u002fextra\\u003e\",\"legendgroup\":\"perro\",\"marker\":{\"color\":\"#FF97FF\",\"symbol\":\"circle\"},\"mode\":\"markers\",\"name\":\"perro\",\"scene\":\"scene\",\"showlegend\":true,\"x\":[1.6575596],\"y\":[0.3416193],\"z\":[1.1131423],\"type\":\"scatter3d\"}],                        {\"template\":{\"data\":{\"histogram2dcontour\":[{\"type\":\"histogram2dcontour\",\"colorbar\":{\"outlinewidth\":0,\"ticks\":\"\"},\"colorscale\":[[0.0,\"#0d0887\"],[0.1111111111111111,\"#46039f\"],[0.2222222222222222,\"#7201a8\"],[0.3333333333333333,\"#9c179e\"],[0.4444444444444444,\"#bd3786\"],[0.5555555555555556,\"#d8576b\"],[0.6666666666666666,\"#ed7953\"],[0.7777777777777778,\"#fb9f3a\"],[0.8888888888888888,\"#fdca26\"],[1.0,\"#f0f921\"]]}],\"choropleth\":[{\"type\":\"choropleth\",\"colorbar\":{\"outlinewidth\":0,\"ticks\":\"\"}}],\"histogram2d\":[{\"type\":\"histogram2d\",\"colorbar\":{\"outlinewidth\":0,\"ticks\":\"\"},\"colorscale\":[[0.0,\"#0d0887\"],[0.1111111111111111,\"#46039f\"],[0.2222222222222222,\"#7201a8\"],[0.3333333333333333,\"#9c179e\"],[0.4444444444444444,\"#bd3786\"],[0.5555555555555556,\"#d8576b\"],[0.6666666666666666,\"#ed7953\"],[0.7777777777777778,\"#fb9f3a\"],[0.8888888888888888,\"#fdca26\"],[1.0,\"#f0f921\"]]}],\"heatmap\":[{\"type\":\"heatmap\",\"colorbar\":{\"outlinewidth\":0,\"ticks\":\"\"},\"colorscale\":[[0.0,\"#0d0887\"],[0.1111111111111111,\"#46039f\"],[0.2222222222222222,\"#7201a8\"],[0.3333333333333333,\"#9c179e\"],[0.4444444444444444,\"#bd3786\"],[0.5555555555555556,\"#d8576b\"],[0.6666666666666666,\"#ed7953\"],[0.7777777777777778,\"#fb9f3a\"],[0.8888888888888888,\"#fdca26\"],[1.0,\"#f0f921\"]]}],\"heatmapgl\":[{\"type\":\"heatmapgl\",\"colorbar\":{\"outlinewidth\":0,\"ticks\":\"\"},\"colorscale\":[[0.0,\"#0d0887\"],[0.1111111111111111,\"#46039f\"],[0.2222222222222222,\"#7201a8\"],[0.3333333333333333,\"#9c179e\"],[0.4444444444444444,\"#bd3786\"],[0.5555555555555556,\"#d8576b\"],[0.6666666666666666,\"#ed7953\"],[0.7777777777777778,\"#fb9f3a\"],[0.8888888888888888,\"#fdca26\"],[1.0,\"#f0f921\"]]}],\"contourcarpet\":[{\"type\":\"contourcarpet\",\"colorbar\":{\"outlinewidth\":0,\"ticks\":\"\"}}],\"contour\":[{\"type\":\"contour\",\"colorbar\":{\"outlinewidth\":0,\"ticks\":\"\"},\"colorscale\":[[0.0,\"#0d0887\"],[0.1111111111111111,\"#46039f\"],[0.2222222222222222,\"#7201a8\"],[0.3333333333333333,\"#9c179e\"],[0.4444444444444444,\"#bd3786\"],[0.5555555555555556,\"#d8576b\"],[0.6666666666666666,\"#ed7953\"],[0.7777777777777778,\"#fb9f3a\"],[0.8888888888888888,\"#fdca26\"],[1.0,\"#f0f921\"]]}],\"surface\":[{\"type\":\"surface\",\"colorbar\":{\"outlinewidth\":0,\"ticks\":\"\"},\"colorscale\":[[0.0,\"#0d0887\"],[0.1111111111111111,\"#46039f\"],[0.2222222222222222,\"#7201a8\"],[0.3333333333333333,\"#9c179e\"],[0.4444444444444444,\"#bd3786\"],[0.5555555555555556,\"#d8576b\"],[0.6666666666666666,\"#ed7953\"],[0.7777777777777778,\"#fb9f3a\"],[0.8888888888888888,\"#fdca26\"],[1.0,\"#f0f921\"]]}],\"mesh3d\":[{\"type\":\"mesh3d\",\"colorbar\":{\"outlinewidth\":0,\"ticks\":\"\"}}],\"scatter\":[{\"fillpattern\":{\"fillmode\":\"overlay\",\"size\":10,\"solidity\":0.2},\"type\":\"scatter\"}],\"parcoords\":[{\"type\":\"parcoords\",\"line\":{\"colorbar\":{\"outlinewidth\":0,\"ticks\":\"\"}}}],\"scatterpolargl\":[{\"type\":\"scatterpolargl\",\"marker\":{\"colorbar\":{\"outlinewidth\":0,\"ticks\":\"\"}}}],\"bar\":[{\"error_x\":{\"color\":\"#2a3f5f\"},\"error_y\":{\"color\":\"#2a3f5f\"},\"marker\":{\"line\":{\"color\":\"#E5ECF6\",\"width\":0.5},\"pattern\":{\"fillmode\":\"overlay\",\"size\":10,\"solidity\":0.2}},\"type\":\"bar\"}],\"scattergeo\":[{\"type\":\"scattergeo\",\"marker\":{\"colorbar\":{\"outlinewidth\":0,\"ticks\":\"\"}}}],\"scatterpolar\":[{\"type\":\"scatterpolar\",\"marker\":{\"colorbar\":{\"outlinewidth\":0,\"ticks\":\"\"}}}],\"histogram\":[{\"marker\":{\"pattern\":{\"fillmode\":\"overlay\",\"size\":10,\"solidity\":0.2}},\"type\":\"histogram\"}],\"scattergl\":[{\"type\":\"scattergl\",\"marker\":{\"colorbar\":{\"outlinewidth\":0,\"ticks\":\"\"}}}],\"scatter3d\":[{\"type\":\"scatter3d\",\"line\":{\"colorbar\":{\"outlinewidth\":0,\"ticks\":\"\"}},\"marker\":{\"colorbar\":{\"outlinewidth\":0,\"ticks\":\"\"}}}],\"scattermapbox\":[{\"type\":\"scattermapbox\",\"marker\":{\"colorbar\":{\"outlinewidth\":0,\"ticks\":\"\"}}}],\"scatterternary\":[{\"type\":\"scatterternary\",\"marker\":{\"colorbar\":{\"outlinewidth\":0,\"ticks\":\"\"}}}],\"scattercarpet\":[{\"type\":\"scattercarpet\",\"marker\":{\"colorbar\":{\"outlinewidth\":0,\"ticks\":\"\"}}}],\"carpet\":[{\"aaxis\":{\"endlinecolor\":\"#2a3f5f\",\"gridcolor\":\"white\",\"linecolor\":\"white\",\"minorgridcolor\":\"white\",\"startlinecolor\":\"#2a3f5f\"},\"baxis\":{\"endlinecolor\":\"#2a3f5f\",\"gridcolor\":\"white\",\"linecolor\":\"white\",\"minorgridcolor\":\"white\",\"startlinecolor\":\"#2a3f5f\"},\"type\":\"carpet\"}],\"table\":[{\"cells\":{\"fill\":{\"color\":\"#EBF0F8\"},\"line\":{\"color\":\"white\"}},\"header\":{\"fill\":{\"color\":\"#C8D4E3\"},\"line\":{\"color\":\"white\"}},\"type\":\"table\"}],\"barpolar\":[{\"marker\":{\"line\":{\"color\":\"#E5ECF6\",\"width\":0.5},\"pattern\":{\"fillmode\":\"overlay\",\"size\":10,\"solidity\":0.2}},\"type\":\"barpolar\"}],\"pie\":[{\"automargin\":true,\"type\":\"pie\"}]},\"layout\":{\"autotypenumbers\":\"strict\",\"colorway\":[\"#636efa\",\"#EF553B\",\"#00cc96\",\"#ab63fa\",\"#FFA15A\",\"#19d3f3\",\"#FF6692\",\"#B6E880\",\"#FF97FF\",\"#FECB52\"],\"font\":{\"color\":\"#2a3f5f\"},\"hovermode\":\"closest\",\"hoverlabel\":{\"align\":\"left\"},\"paper_bgcolor\":\"white\",\"plot_bgcolor\":\"#E5ECF6\",\"polar\":{\"bgcolor\":\"#E5ECF6\",\"angularaxis\":{\"gridcolor\":\"white\",\"linecolor\":\"white\",\"ticks\":\"\"},\"radialaxis\":{\"gridcolor\":\"white\",\"linecolor\":\"white\",\"ticks\":\"\"}},\"ternary\":{\"bgcolor\":\"#E5ECF6\",\"aaxis\":{\"gridcolor\":\"white\",\"linecolor\":\"white\",\"ticks\":\"\"},\"baxis\":{\"gridcolor\":\"white\",\"linecolor\":\"white\",\"ticks\":\"\"},\"caxis\":{\"gridcolor\":\"white\",\"linecolor\":\"white\",\"ticks\":\"\"}},\"coloraxis\":{\"colorbar\":{\"outlinewidth\":0,\"ticks\":\"\"}},\"colorscale\":{\"sequential\":[[0.0,\"#0d0887\"],[0.1111111111111111,\"#46039f\"],[0.2222222222222222,\"#7201a8\"],[0.3333333333333333,\"#9c179e\"],[0.4444444444444444,\"#bd3786\"],[0.5555555555555556,\"#d8576b\"],[0.6666666666666666,\"#ed7953\"],[0.7777777777777778,\"#fb9f3a\"],[0.8888888888888888,\"#fdca26\"],[1.0,\"#f0f921\"]],\"sequentialminus\":[[0.0,\"#0d0887\"],[0.1111111111111111,\"#46039f\"],[0.2222222222222222,\"#7201a8\"],[0.3333333333333333,\"#9c179e\"],[0.4444444444444444,\"#bd3786\"],[0.5555555555555556,\"#d8576b\"],[0.6666666666666666,\"#ed7953\"],[0.7777777777777778,\"#fb9f3a\"],[0.8888888888888888,\"#fdca26\"],[1.0,\"#f0f921\"]],\"diverging\":[[0,\"#8e0152\"],[0.1,\"#c51b7d\"],[0.2,\"#de77ae\"],[0.3,\"#f1b6da\"],[0.4,\"#fde0ef\"],[0.5,\"#f7f7f7\"],[0.6,\"#e6f5d0\"],[0.7,\"#b8e186\"],[0.8,\"#7fbc41\"],[0.9,\"#4d9221\"],[1,\"#276419\"]]},\"xaxis\":{\"gridcolor\":\"white\",\"linecolor\":\"white\",\"ticks\":\"\",\"title\":{\"standoff\":15},\"zerolinecolor\":\"white\",\"automargin\":true,\"zerolinewidth\":2},\"yaxis\":{\"gridcolor\":\"white\",\"linecolor\":\"white\",\"ticks\":\"\",\"title\":{\"standoff\":15},\"zerolinecolor\":\"white\",\"automargin\":true,\"zerolinewidth\":2},\"scene\":{\"xaxis\":{\"backgroundcolor\":\"#E5ECF6\",\"gridcolor\":\"white\",\"linecolor\":\"white\",\"showbackground\":true,\"ticks\":\"\",\"zerolinecolor\":\"white\",\"gridwidth\":2},\"yaxis\":{\"backgroundcolor\":\"#E5ECF6\",\"gridcolor\":\"white\",\"linecolor\":\"white\",\"showbackground\":true,\"ticks\":\"\",\"zerolinecolor\":\"white\",\"gridwidth\":2},\"zaxis\":{\"backgroundcolor\":\"#E5ECF6\",\"gridcolor\":\"white\",\"linecolor\":\"white\",\"showbackground\":true,\"ticks\":\"\",\"zerolinecolor\":\"white\",\"gridwidth\":2}},\"shapedefaults\":{\"line\":{\"color\":\"#2a3f5f\"}},\"annotationdefaults\":{\"arrowcolor\":\"#2a3f5f\",\"arrowhead\":0,\"arrowwidth\":1},\"geo\":{\"bgcolor\":\"white\",\"landcolor\":\"#E5ECF6\",\"subunitcolor\":\"white\",\"showland\":true,\"showlakes\":true,\"lakecolor\":\"white\"},\"title\":{\"x\":0.05},\"mapbox\":{\"style\":\"light\"}}},\"scene\":{\"domain\":{\"x\":[0.0,1.0],\"y\":[0.0,1.0]},\"xaxis\":{\"title\":{\"text\":\"PC 1\"}},\"yaxis\":{\"title\":{\"text\":\"PC 2\"}},\"zaxis\":{\"title\":{\"text\":\"PC 3\"}}},\"legend\":{\"title\":{\"text\":\"index\"},\"tracegroupgap\":0},\"margin\":{\"t\":60}},                        {\"responsive\": true}                    ).then(function(){\n",
              "                            \n",
              "var gd = document.getElementById('6a7cc92a-c5e3-4249-b618-68c399321995');\n",
              "var x = new MutationObserver(function (mutations, observer) {{\n",
              "        var display = window.getComputedStyle(gd).display;\n",
              "        if (!display || display === 'none') {{\n",
              "            console.log([gd, 'removed!']);\n",
              "            Plotly.purge(gd);\n",
              "            observer.disconnect();\n",
              "        }}\n",
              "}});\n",
              "\n",
              "// Listen for the removal of the full notebook cells\n",
              "var notebookContainer = gd.closest('#notebook-container');\n",
              "if (notebookContainer) {{\n",
              "    x.observe(notebookContainer, {childList: true});\n",
              "}}\n",
              "\n",
              "// Listen for the clearing of the current output cell\n",
              "var outputEl = gd.closest('.output');\n",
              "if (outputEl) {{\n",
              "    x.observe(outputEl, {childList: true});\n",
              "}}\n",
              "\n",
              "                        })                };                            </script>        </div>\n",
              "</body>\n",
              "</html>"
            ]
          },
          "metadata": {}
        },
        {
          "output_type": "stream",
          "name": "stdout",
          "text": [
            "mariposa    0.243237\n",
            "araña       0.371539\n",
            "tiburón     0.379675\n",
            "libélula    0.387536\n",
            "ardilla     0.488079\n",
            "pájaro      0.498315\n",
            "lobo        0.622017\n",
            "gato        0.744588\n",
            "dtype: float32\n"
          ]
        }
      ]
    },
    {
      "cell_type": "markdown",
      "source": [
        "## Top n palabras similares"
      ],
      "metadata": {
        "id": "ZEGbVWjYoBwv"
      }
    },
    {
      "cell_type": "code",
      "metadata": {
        "id": "e34M9bL4tyLK"
      },
      "source": [
        "def encuentra_palabras_parecidas(palabra, n):\n",
        "    palabra = palabra.lower()\n",
        "    palabra_vector = dic_word2vec[palabra]\n",
        "\n",
        "    max_similitud = -1 # la inicializamos con una similaridad alejada\n",
        "    mas_parecida = None\n",
        "\n",
        "    similaridad ={}\n",
        "    for p in vocabulario:\n",
        "        if p is palabra:\n",
        "            continue\n",
        "\n",
        "        similaridad[p] = similitud_coseno(palabra_vector,dic_word2vec[p])\n",
        "\n",
        "    similaridad_ordenada = {k:v for k,v in sorted(similaridad.items(),\n",
        "                                                  key=lambda x: x[1],\n",
        "                                                 reverse=True)}\n",
        "    lista_palabras = list(similaridad_ordenada.keys())\n",
        "\n",
        "    return lista_palabras[1:n+1]\n",
        "\n"
      ],
      "execution_count": null,
      "outputs": []
    },
    {
      "cell_type": "code",
      "metadata": {
        "colab": {
          "base_uri": "https://localhost:8080/"
        },
        "id": "yuoZakynx_kD",
        "outputId": "7206618e-9e7f-493f-d9f6-bcf3fe6b39b8"
      },
      "source": [
        "%time encuentra_palabras_parecidas('gato',15)\n"
      ],
      "execution_count": null,
      "outputs": [
        {
          "output_type": "stream",
          "name": "stdout",
          "text": [
            "CPU times: user 24.3 s, sys: 1.18 s, total: 25.4 s\n",
            "Wall time: 25.1 s\n"
          ]
        },
        {
          "output_type": "execute_result",
          "data": {
            "text/plain": [
              "['perro',\n",
              " 'zorro',\n",
              " 'conejo',\n",
              " 'montés',\n",
              " 'mapache',\n",
              " 'maúlla',\n",
              " 'tigre',\n",
              " 'lybica',\n",
              " 'huiña',\n",
              " 'gatito',\n",
              " 'hipopotamo',\n",
              " 'comadreja',\n",
              " 'colocolo',\n",
              " 'oso',\n",
              " 'bakeneko']"
            ]
          },
          "metadata": {},
          "execution_count": 17
        }
      ]
    },
    {
      "cell_type": "code",
      "metadata": {
        "colab": {
          "base_uri": "https://localhost:8080/"
        },
        "id": "etxHh7RnSx9C",
        "outputId": "df785e89-9dff-4173-a91d-3248f41c1017"
      },
      "source": [
        "%time w2v.most_similar('gato', topn= 15)"
      ],
      "execution_count": null,
      "outputs": [
        {
          "output_type": "stream",
          "name": "stdout",
          "text": [
            "CPU times: user 357 ms, sys: 159 ms, total: 515 ms\n",
            "Wall time: 534 ms\n"
          ]
        },
        {
          "output_type": "execute_result",
          "data": {
            "text/plain": [
              "[('perro', 0.7445881366729736),\n",
              " ('zorro', 0.7061581611633301),\n",
              " ('conejo', 0.7018613815307617),\n",
              " ('montés', 0.6875571012496948),\n",
              " ('mapache', 0.6867462396621704),\n",
              " ('maúlla', 0.6719425916671753),\n",
              " ('tigre', 0.6647046804428101),\n",
              " ('lybica', 0.6631762385368347),\n",
              " ('huiña', 0.6606248617172241),\n",
              " ('gatito', 0.6600393056869507),\n",
              " ('hipopotamo', 0.6526225805282593),\n",
              " ('comadreja', 0.6525238752365112),\n",
              " ('colocolo', 0.6520143747329712),\n",
              " ('oso', 0.6518274545669556),\n",
              " ('bakeneko', 0.6507337689399719)]"
            ]
          },
          "metadata": {},
          "execution_count": 20
        }
      ]
    },
    {
      "cell_type": "markdown",
      "source": [
        "# Analogías"
      ],
      "metadata": {
        "id": "KGhV08T_vRtI"
      }
    },
    {
      "cell_type": "code",
      "metadata": {
        "id": "cN7ODMs9xTap"
      },
      "source": [
        "def encuentra_palabra(a, b, c):\n",
        "    a, b, c = a.lower(), b.lower(), c.lower()\n",
        "    a_vector, b_vector, c_vector = dic_word2vec[a], dic_word2vec[b], dic_word2vec[c]\n",
        "\n",
        "    max_similitud = -1 #la inicializamos con una similaridad alejada\n",
        "    mas_parecida = None\n",
        "\n",
        "    for palabra in vocabulario:\n",
        "        if palabra in [a, b, c]:\n",
        "            continue\n",
        "\n",
        "        sim_coseno = similitud_coseno(np.subtract(b_vector, a_vector), np.subtract(dic_word2vec[palabra], c_vector))\n",
        "\n",
        "        if sim_coseno > max_similitud:\n",
        "            max_similitud = sim_coseno\n",
        "            mas_parecida = palabra\n",
        "\n",
        "    return mas_parecida, sim_coseno"
      ],
      "execution_count": null,
      "outputs": []
    },
    {
      "cell_type": "code",
      "metadata": {
        "colab": {
          "base_uri": "https://localhost:8080/"
        },
        "id": "pxggufs8_Pbo",
        "outputId": "46cf3087-c5c7-4918-8ccf-0f89ffc7a0af"
      },
      "source": [
        "%time encuentra_palabra('hombre', 'rey', 'mujer')"
      ],
      "execution_count": null,
      "outputs": [
        {
          "output_type": "stream",
          "name": "stdout",
          "text": [
            "CPU times: user 24.2 s, sys: 1.73 s, total: 26 s\n",
            "Wall time: 24.9 s\n"
          ]
        },
        {
          "output_type": "execute_result",
          "data": {
            "text/plain": [
              "('reina', 0.30851448)"
            ]
          },
          "metadata": {},
          "execution_count": 19
        }
      ]
    },
    {
      "cell_type": "code",
      "metadata": {
        "colab": {
          "base_uri": "https://localhost:8080/"
        },
        "outputId": "a42c4470-7e3e-4c9a-d2ac-1bcb151ec6b4",
        "id": "8QQOrcBcgGWv"
      },
      "source": [
        "%time encuentra_palabra('dia', 'blanco', 'noche')"
      ],
      "execution_count": null,
      "outputs": [
        {
          "output_type": "stream",
          "name": "stdout",
          "text": [
            "CPU times: user 17.4 s, sys: 1.74 s, total: 19.1 s\n",
            "Wall time: 18.4 s\n"
          ]
        },
        {
          "output_type": "execute_result",
          "data": {
            "text/plain": [
              "('negro', 0.09112594)"
            ]
          },
          "metadata": {},
          "execution_count": 17
        }
      ]
    },
    {
      "cell_type": "markdown",
      "source": [
        "<f2> Ojo con los sesgos"
      ],
      "metadata": {
        "id": "eVEYKkzsnM0o"
      }
    },
    {
      "cell_type": "code",
      "source": [
        "%time encuentra_palabra('hombre', 'doctor', 'mujer')"
      ],
      "metadata": {
        "colab": {
          "base_uri": "https://localhost:8080/"
        },
        "id": "DPmkX_J8mGOC",
        "outputId": "b480f65d-737f-4700-eebd-25b660d98a21"
      },
      "execution_count": null,
      "outputs": [
        {
          "output_type": "stream",
          "name": "stdout",
          "text": [
            "CPU times: user 18 s, sys: 1.45 s, total: 19.4 s\n",
            "Wall time: 18.7 s\n"
          ]
        },
        {
          "output_type": "execute_result",
          "data": {
            "text/plain": [
              "('doctora', 0.23684959)"
            ]
          },
          "metadata": {},
          "execution_count": 22
        }
      ]
    },
    {
      "cell_type": "code",
      "source": [
        "%time encuentra_palabra('mujer', 'enfermería', 'hombre')"
      ],
      "metadata": {
        "outputId": "f57701fc-0f89-4a2e-a2ce-60a90004c1af",
        "colab": {
          "base_uri": "https://localhost:8080/"
        },
        "id": "-rngngY2mir4"
      },
      "execution_count": null,
      "outputs": [
        {
          "output_type": "stream",
          "name": "stdout",
          "text": [
            "CPU times: user 16.5 s, sys: 1.25 s, total: 17.7 s\n",
            "Wall time: 16.8 s\n"
          ]
        },
        {
          "output_type": "execute_result",
          "data": {
            "text/plain": [
              "('fisioterapeutas', 0.27828482)"
            ]
          },
          "metadata": {},
          "execution_count": 23
        }
      ]
    },
    {
      "cell_type": "code",
      "source": [
        "%time encuentra_palabra('hombre', 'ciencias', 'mujer')"
      ],
      "metadata": {
        "outputId": "dda8d73a-f9df-4a6c-f12c-d4ff3fd17e05",
        "colab": {
          "base_uri": "https://localhost:8080/"
        },
        "id": "DwXwvMcVm41J"
      },
      "execution_count": null,
      "outputs": [
        {
          "output_type": "stream",
          "name": "stdout",
          "text": [
            "CPU times: user 16.3 s, sys: 1.26 s, total: 17.5 s\n",
            "Wall time: 16.7 s\n"
          ]
        },
        {
          "output_type": "execute_result",
          "data": {
            "text/plain": [
              "('humanidades', 0.3078422)"
            ]
          },
          "metadata": {},
          "execution_count": 25
        }
      ]
    },
    {
      "cell_type": "markdown",
      "metadata": {
        "id": "Jper2gt6qy7J"
      },
      "source": [
        "# Recursos\n",
        "\n",
        "1. Almeida A. aitoralmeida/spanish_word2vec [Internet]. 2021 [citado 4 de mayo de 2021]. Disponible en: https://github.com/aitoralmeida/spanish_word2vec\n",
        "2. Ganesan K. Easily Access Pre-trained Word Embeddings with Gensim [Internet]. Kavita Ganesan, Ph.D. 2019 [citado 4 de mayo de 2021]. Disponible en: https://kavita-ganesan.com/easily-access-pre-trained-word-embeddings-with-gensim/\n",
        "3. Picture DS Nikhil Thorat, Charles Nicholson, Big. Embedding projector - visualization of high-dimensional data [Internet]. [citado 4 de mayo de 2021]. Disponible en: http://projector.tensorflow.org\n",
        "4. Python | Word Embedding using Word2Vec [Internet]. GeeksforGeeks. 2018 [citado 4 de mayo de 2021]. Disponible en: https://www.geeksforgeeks.org/python-word-embedding-using-word2vec/\n",
        "5. Alammar J. The Illustrated Word2vec [Internet]. [citado 4 de mayo de 2021]. Disponible en: http://jalammar.github.io/illustrated-word2vec/\n",
        "\n",
        "\n"
      ]
    }
  ]
}